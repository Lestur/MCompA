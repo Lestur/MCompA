{
  "nbformat": 4,
  "nbformat_minor": 0,
  "metadata": {
    "colab": {
      "name": "Prova_1.ipynb",
      "provenance": []
    },
    "kernelspec": {
      "name": "python3",
      "display_name": "Python 3"
    },
    "language_info": {
      "name": "python"
    }
  },
  "cells": [
    {
      "cell_type": "code",
      "metadata": {
        "id": "uXjTC3BB2YnF"
      },
      "source": [
        "import math\n",
        "import numpy as np\n",
        "import matplotlib.pyplot as plt\n"
      ],
      "execution_count": 1,
      "outputs": []
    },
    {
      "cell_type": "code",
      "metadata": {
        "colab": {
          "base_uri": "https://localhost:8080/"
        },
        "id": "EyvzLk-T2gNa",
        "outputId": "c1ea3667-6e76-4b0f-ae08-f10c20b84830"
      },
      "source": [
        "#1a- Expansão em série de Taylor:\n",
        "x = 0.5\n",
        "N = 100\n",
        "\n",
        "def Taylor(x,N):\n",
        "  soma = 0\n",
        "\n",
        "  if abs(x) >= 1:\n",
        "    print ('valor de x fora do intervalo')\n",
        "  else:\n",
        "    for n in range(N):\n",
        "      soma += (-1**n)*(x**(n+1))/(n+1)\n",
        "    return soma\n",
        "N_a = np.arange(1,101,1)\n",
        "Taylor_array = np.zeros(N_a.shape)\n",
        "\n",
        "for i in range(len(Taylor_array)):\n",
        "  Taylor_array[i] = Taylor(x,N_a[i])\n",
        "\n",
        "print(Taylor_array)\n",
        "\n"
      ],
      "execution_count": 10,
      "outputs": [
        {
          "output_type": "stream",
          "text": [
            "[-0.5        -0.625      -0.66666667 -0.68229167 -0.68854167 -0.69114583\n",
            " -0.6922619  -0.69275019 -0.6929672  -0.69306486 -0.69310925 -0.69312959\n",
            " -0.69313898 -0.69314334 -0.69314537 -0.69314633 -0.69314678 -0.69314699\n",
            " -0.69314709 -0.69314714 -0.69314716 -0.69314717 -0.69314718 -0.69314718\n",
            " -0.69314718 -0.69314718 -0.69314718 -0.69314718 -0.69314718 -0.69314718\n",
            " -0.69314718 -0.69314718 -0.69314718 -0.69314718 -0.69314718 -0.69314718\n",
            " -0.69314718 -0.69314718 -0.69314718 -0.69314718 -0.69314718 -0.69314718\n",
            " -0.69314718 -0.69314718 -0.69314718 -0.69314718 -0.69314718 -0.69314718\n",
            " -0.69314718 -0.69314718 -0.69314718 -0.69314718 -0.69314718 -0.69314718\n",
            " -0.69314718 -0.69314718 -0.69314718 -0.69314718 -0.69314718 -0.69314718\n",
            " -0.69314718 -0.69314718 -0.69314718 -0.69314718 -0.69314718 -0.69314718\n",
            " -0.69314718 -0.69314718 -0.69314718 -0.69314718 -0.69314718 -0.69314718\n",
            " -0.69314718 -0.69314718 -0.69314718 -0.69314718 -0.69314718 -0.69314718\n",
            " -0.69314718 -0.69314718 -0.69314718 -0.69314718 -0.69314718 -0.69314718\n",
            " -0.69314718 -0.69314718 -0.69314718 -0.69314718 -0.69314718 -0.69314718\n",
            " -0.69314718 -0.69314718 -0.69314718 -0.69314718 -0.69314718 -0.69314718\n",
            " -0.69314718 -0.69314718 -0.69314718 -0.69314718]\n"
          ],
          "name": "stdout"
        }
      ]
    },
    {
      "cell_type": "code",
      "metadata": {
        "colab": {
          "base_uri": "https://localhost:8080/",
          "height": 279
        },
        "id": "0ramkVcwAmS7",
        "outputId": "503fbee3-5257-40e3-81b8-7a945ca27aa1"
      },
      "source": [
        "#1b- Gráfico em função de N:\n",
        "\n",
        "plt.plot(N_a,Taylor_array, label='ln(x+1)/N')\n",
        "plt.xlabel('N')\n",
        "plt.ylabel('ln(x+1)')\n",
        "plt.legend()\n",
        "plt.show()"
      ],
      "execution_count": 3,
      "outputs": [
        {
          "output_type": "display_data",
          "data": {
            "image/png": "[encoded data removed]",
            "text/plain": [
              "<Figure size 432x288 with 1 Axes>"
            ]
          },
          "metadata": {
            "tags": [],
            "needs_background": "light"
          }
        }
      ]
    },
    {
      "cell_type": "code",
      "metadata": {
        "colab": {
          "base_uri": "https://localhost:8080/"
        },
        "id": "kZe9I0uPJlyw",
        "outputId": "d42c6ee1-0a9f-431c-e6f1-2424b84e4c31"
      },
      "source": [
        "#1c- Programa que retorna ln(x+1)\n",
        "\n",
        "x = 2 #Inserir valor de x\n",
        "N = 100  #Inserir valor de N\n",
        "\n",
        "def Taylor(x,N):\n",
        "  soma = 0\n",
        "\n",
        "  if abs(x) >= 1:\n",
        "    print ('valor de x fora do intervalo')\n",
        "  else:\n",
        "    for n in range(N):\n",
        "      soma += (-1**n)*(x**(n+1))/(n+1)\n",
        "    return soma\n",
        "Taylor(x,N)\n"
      ],
      "execution_count": 8,
      "outputs": [
        {
          "output_type": "stream",
          "text": [
            "valor de x fora do intervalo\n"
          ],
          "name": "stdout"
        }
      ]
    }
  ]
}